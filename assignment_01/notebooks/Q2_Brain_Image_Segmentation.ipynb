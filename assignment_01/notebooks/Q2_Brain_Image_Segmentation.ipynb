{
  "cells": [
    {
      "cell_type": "markdown",
      "metadata": {},
      "source": "# Template \u2014 EN3160 Assignment Notebook\nUse for Q2\u2013Q9."
    },
    {
      "cell_type": "code",
      "metadata": {},
      "execution_count": null,
      "outputs": [],
      "source": "\nimport numpy as np, cv2 as cv, matplotlib.pyplot as plt\nfrom pathlib import Path\nDATA = Path(\"../data\"); RESULTS = Path(\"../results/template\"); RESULTS.mkdir(parents=True, exist_ok=True)\nprint(\"Folders ready:\", DATA.resolve(), RESULTS.resolve())\n"
    }
  ],
  "metadata": {
    "kernelspec": {
      "display_name": "Python 3",
      "language": "python",
      "name": "python3"
    },
    "language_info": {
      "name": "python",
      "pygments_lexer": "ipython3"
    }
  },
  "nbformat": 4,
  "nbformat_minor": 5
}