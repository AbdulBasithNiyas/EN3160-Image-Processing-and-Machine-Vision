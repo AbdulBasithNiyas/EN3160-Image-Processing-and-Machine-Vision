{
  "cells": [
    {
      "cell_type": "markdown",
      "metadata": {},
      "source": "# Q1 \u2014 Intensity Transformation\nImplement the given mapping and apply to the provided image."
    },
    {
      "cell_type": "code",
      "metadata": {},
      "execution_count": null,
      "outputs": [],
      "source": "\nimport numpy as np, cv2 as cv, matplotlib.pyplot as plt\nfrom pathlib import Path\nDATA = Path(\"../data\"); RESULTS = Path(\"../results/q1\"); RESULTS.mkdir(parents=True, exist_ok=True)\nimg_path = DATA / \"q1_input.png\"  # place the Q1 image here\nimg = cv.imread(str(img_path), cv.IMREAD_GRAYSCALE)\nassert img is not None, f\"Image not found at {img_path}\"\nprint(\"Input shape:\", img.shape)\n"
    },
    {
      "cell_type": "code",
      "metadata": {},
      "execution_count": null,
      "outputs": [],
      "source": "\n# TODO: replace this LUT with the exact curve from the assignment figure\ndef intensity_transform(x):\n    return np.clip(1.0 * x, 0, 255).astype(np.uint8)\n\nlut = np.array([intensity_transform(v) for v in range(256)], dtype=np.uint8)\nout = cv.LUT(img, lut)\ncv.imwrite(str(RESULTS/\"q1_output.png\"), out)\n"
    },
    {
      "cell_type": "code",
      "metadata": {},
      "execution_count": null,
      "outputs": [],
      "source": "\nxs = np.arange(256); ys = lut\nplt.figure(); plt.plot(xs, ys); plt.title(\"Intensity Transform (Q1)\"); plt.xlabel(\"Input\"); plt.ylabel(\"Output\"); plt.grid(True)\nplt.savefig(RESULTS/\"q1_transform_curve.png\", dpi=150, bbox_inches=\"tight\"); plt.show()\n\nplt.figure()\nplt.subplot(1,2,1); plt.imshow(img, cmap='gray'); plt.title(\"Input\"); plt.axis('off')\nplt.subplot(1,2,2); plt.imshow(out, cmap='gray'); plt.title(\"Output\"); plt.axis('off')\nplt.savefig(RESULTS/\"q1_before_after.png\", dpi=150, bbox_inches=\"tight\"); plt.show()\n"
    }
  ],
  "metadata": {
    "kernelspec": {
      "display_name": "Python 3",
      "language": "python",
      "name": "python3"
    },
    "language_info": {
      "name": "python",
      "pygments_lexer": "ipython3"
    }
  },
  "nbformat": 4,
  "nbformat_minor": 5
}